{
  "cells": [
    {
      "metadata": {
        "_uuid": "8f2839f25d086af736a60e9eeb907d3b93b6e0e5",
        "_cell_guid": "b1076dfc-b9ad-4769-8c92-a6c4dae69d19",
        "trusted": true
      },
      "cell_type": "code",
      "source": "# This Python 3 environment comes with many helpful analytics libraries installed\n# It is defined by the kaggle/python docker image: https://github.com/kaggle/docker-python\n# For example, here's several helpful packages to load in \n\n# data analysis and wrangling\nimport pandas as pd\nimport numpy as np\nimport random as rnd\n\n# visualization\nimport seaborn as sns\nimport matplotlib.pyplot as plt\n%matplotlib inline\n\n# machine learning\nfrom sklearn.linear_model import LogisticRegression\nfrom sklearn.svm import SVC, LinearSVC\nfrom sklearn.ensemble import RandomForestClassifier\nfrom sklearn.neighbors import KNeighborsClassifier\nfrom sklearn.naive_bayes import GaussianNB\nfrom sklearn.linear_model import Perceptron\nfrom sklearn.linear_model import SGDClassifier\nfrom sklearn.tree import DecisionTreeClassifier\n\n# Input data files are available in the \"../input/\" directory.\n# For example, running this (by clicking run or pressing Shift+Enter) will list the files in the input directory\n\nimport os\nprint(os.listdir(\"../input\"))\n\n# Any results you write to the current directory are saved as output.",
      "execution_count": null,
      "outputs": []
    },
    {
      "metadata": {
        "_uuid": "39037f978f3d15db9178d6c765695d3c2b4291ab"
      },
      "cell_type": "markdown",
      "source": "**Read the data - train, test, combine(both test and test to run certain operations.**"
    },
    {
      "metadata": {
        "_cell_guid": "79c7e3d0-c299-4dcb-8224-4455121ee9b0",
        "collapsed": true,
        "_uuid": "d629ff2d2480ee46fbb7e2d37f6b5fab8052498a",
        "trusted": true
      },
      "cell_type": "code",
      "source": "df_train = pd.read_csv('../input/train.csv')\ndf_test = pd.read_csv('../input/test.csv')\ndf_combine = [df_train, df_test]",
      "execution_count": null,
      "outputs": []
    },
    {
      "metadata": {
        "_uuid": "874d210bf533b8b2664a8df82485d26c1c82337b"
      },
      "cell_type": "markdown",
      "source": "**Find features available in the dataset.**"
    },
    {
      "metadata": {
        "trusted": true,
        "_uuid": "f3e617e538549c063ded4ab667477bbb2eee5bc8"
      },
      "cell_type": "code",
      "source": "df_train.columns.values",
      "execution_count": null,
      "outputs": []
    },
    {
      "metadata": {
        "trusted": true,
        "_uuid": "06e8357ff041af8f0033c603d4570627146cddb5"
      },
      "cell_type": "code",
      "source": "df_test.columns.values",
      "execution_count": null,
      "outputs": []
    },
    {
      "metadata": {
        "trusted": true,
        "_uuid": "9c58ac88842a81b29df0db80895e09f418b6d7a1"
      },
      "cell_type": "code",
      "source": "df_train.info()",
      "execution_count": null,
      "outputs": []
    },
    {
      "metadata": {
        "trusted": true,
        "_uuid": "d2a7745334396071749f8c1026e64906a6f951c8"
      },
      "cell_type": "code",
      "source": "df_test.info()",
      "execution_count": null,
      "outputs": []
    },
    {
      "metadata": {
        "trusted": true,
        "_uuid": "f41381c478e89fc9ba608c83dc9ce1c4a78e4e68"
      },
      "cell_type": "code",
      "source": "df_train.head()",
      "execution_count": null,
      "outputs": []
    },
    {
      "metadata": {
        "trusted": true,
        "_uuid": "8c80320535e17418d96a4e4b153b2d1de0f8c4d4"
      },
      "cell_type": "code",
      "source": "df_train.describe()",
      "execution_count": null,
      "outputs": []
    },
    {
      "metadata": {
        "_uuid": "e77ec0d36e95efffaa99f1f76f797b7a735d4990"
      },
      "cell_type": "markdown",
      "source": "**Find features with null, empty or blank values.**\n\nAge, Cabin and Embarked has missing values."
    },
    {
      "metadata": {
        "trusted": true,
        "_uuid": "efab88b8afea306660e9e69d3e0130c35bdd8c6f"
      },
      "cell_type": "code",
      "source": "df_train.corr()",
      "execution_count": null,
      "outputs": []
    },
    {
      "metadata": {
        "trusted": true,
        "collapsed": true,
        "_uuid": "78357c44a525529936a0d94461cf73c6d86ce6c9"
      },
      "cell_type": "markdown",
      "source": "**Find Numerical values**\n\nSibsp, Fare, Parch, age"
    },
    {
      "metadata": {
        "_uuid": "8e5730b3b02debc6f618955e4849d254d7da2c38"
      },
      "cell_type": "markdown",
      "source": "**Find categorical values**\n\nsurvived, pclass, cabin, embarked, sex"
    },
    {
      "metadata": {
        "_uuid": "d9bcab8022eeca4a9329af889ecfbcd87e7f5980"
      },
      "cell_type": "markdown",
      "source": "**Find mixed data types features(mix for numeric and alphanumeric).**\n\nTicket,  Cabin"
    },
    {
      "metadata": {
        "trusted": true,
        "_uuid": "0afde45528e70966544f7ec62e87ddabdee33902"
      },
      "cell_type": "code",
      "source": "df_train.describe(include='all')",
      "execution_count": null,
      "outputs": []
    },
    {
      "metadata": {
        "_uuid": "7bc20c0162a4e9dbb5aed1270cd3defed967ec75"
      },
      "cell_type": "markdown",
      "source": "**Drop unnecessary columns.**\n\nTicket and Cabin"
    },
    {
      "metadata": {
        "trusted": true,
        "collapsed": true,
        "_uuid": "bfd5a183a8057af696ef3341bc653c8d54c6dac6"
      },
      "cell_type": "code",
      "source": "df_train = df_train.drop(['Ticket', 'Cabin'], axis=1)\ndf_test = df_test.drop(['Ticket', 'Cabin'], axis=1)\ncombine = [df_train, df_test]",
      "execution_count": null,
      "outputs": []
    },
    {
      "metadata": {
        "trusted": true,
        "_uuid": "8c439128a3f438846de15aba9ffd6b8c1263f3cf"
      },
      "cell_type": "code",
      "source": "df_train.shape, df_test.shape",
      "execution_count": null,
      "outputs": []
    },
    {
      "metadata": {
        "_uuid": "5bb708d25688d18af5900e8d8d66b484942bd5c4"
      },
      "cell_type": "markdown",
      "source": "**Create new features**\n\nNew categorical feature called Title can be derived from the Name.\nTitle value can be extracted by fetching the word that has .(dot) in the end."
    },
    {
      "metadata": {
        "trusted": true,
        "_uuid": "82cac26110cb817f3bedb3426907a13ef4c8eabc"
      },
      "cell_type": "code",
      "source": "for dataset in combine:\n    dataset['Title'] = dataset.Name.str.extract(' ([A-Za-z]+)\\.', expand=False)\n\npd.crosstab(df_train['Title'], df_train['Sex'])",
      "execution_count": null,
      "outputs": []
    },
    {
      "metadata": {
        "trusted": true,
        "_uuid": "cd8950e35511625f5f1c62abde0afc6c161d58a0"
      },
      "cell_type": "code",
      "source": "for dataset in combine:\n    dataset['Title'] = dataset['Title'].replace(['Lady', 'Countess','Capt', 'Col',\\\n \t'Don', 'Dr', 'Major', 'Rev', 'Sir', 'Jonkheer', 'Dona'], 'Rare')\n\n    dataset['Title'] = dataset['Title'].replace('Mlle', 'Miss')\n    dataset['Title'] = dataset['Title'].replace('Ms', 'Miss')\n    dataset['Title'] = dataset['Title'].replace('Mme', 'Mrs')\n    \ndf_train[['Title', 'Survived']].groupby(['Title'], as_index=False).mean()",
      "execution_count": null,
      "outputs": []
    },
    {
      "metadata": {
        "trusted": true,
        "_uuid": "f65f96171747d055560b4923c325727e1e320379"
      },
      "cell_type": "code",
      "source": "df_train.head()",
      "execution_count": null,
      "outputs": []
    },
    {
      "metadata": {
        "_uuid": "9bbf76c9a16c653d698cdc5d4da302f971e46210"
      },
      "cell_type": "markdown",
      "source": "Title has string values. Convert them to numbers."
    },
    {
      "metadata": {
        "trusted": true,
        "_uuid": "783dc5f423bb95e260c4b937d1517e23ea46ec5b"
      },
      "cell_type": "code",
      "source": "title_mapping = {\"Mr\": 1, \"Miss\": 2, \"Mrs\": 3, \"Master\": 4, \"Rare\": 5}\nfor dataset in combine:\n    dataset['Title'] = dataset.Title.map(title_mapping)\n    dataset['Title'] = dataset.Title.fillna(0)\n\ndf_train.head()",
      "execution_count": null,
      "outputs": []
    },
    {
      "metadata": {
        "_uuid": "55a4fd9827ad71759a980ee8e9adc0c2babded7f"
      },
      "cell_type": "markdown",
      "source": "**Name, passengerId can be droped now**"
    },
    {
      "metadata": {
        "trusted": true,
        "_uuid": "255c7e0596d34700f967b12a6972f8fce5181852"
      },
      "cell_type": "code",
      "source": "df_train = df_train.drop(['PassengerId', 'Name'], axis=1)\ndf_test = df_test.drop(['Name'], axis=1)\ncombine = [df_train, df_test]\ndf_train.shape, df_test.shape",
      "execution_count": null,
      "outputs": []
    },
    {
      "metadata": {
        "trusted": true,
        "_uuid": "e195d73d367a6e00ff53387fabc7bf99291b030f"
      },
      "cell_type": "code",
      "source": "df_train.describe(include='all')",
      "execution_count": null,
      "outputs": []
    },
    {
      "metadata": {
        "_uuid": "0680ac6cf8c69efe87c18fcacfb974d741cf5bfd"
      },
      "cell_type": "markdown",
      "source": "**Convert string categorical string features to numeric**"
    },
    {
      "metadata": {
        "trusted": true,
        "_uuid": "d44366e4ba4c5ddeeaef918a07ea589c8c7195eb"
      },
      "cell_type": "code",
      "source": "for dataset in combine:\n    dataset['Sex'] = dataset['Sex'].map( {'female': 1, 'male': 0} )",
      "execution_count": null,
      "outputs": []
    },
    {
      "metadata": {
        "trusted": true,
        "_uuid": "254928a4a391cf64da74b51022dce9d65c7381e9"
      },
      "cell_type": "code",
      "source": "df_train.head()",
      "execution_count": null,
      "outputs": []
    },
    {
      "metadata": {
        "_uuid": "28ce95a4aad5baa3a63f5c01219c15fe3e40bad3"
      },
      "cell_type": "markdown",
      "source": "**Complete Missing values.**\n\nLets complete the missing Age values with median."
    },
    {
      "metadata": {
        "trusted": true,
        "_uuid": "7cc7aa9321f7b2774a738f7cbd8110916638ce3c"
      },
      "cell_type": "code",
      "source": "guess_ages = np.zeros((2,3))\nguess_ages",
      "execution_count": null,
      "outputs": []
    },
    {
      "metadata": {
        "trusted": true,
        "_uuid": "7b880fd25bce502f3fe546c9d78ba4d71c0c60ed"
      },
      "cell_type": "code",
      "source": "for dataset in combine:\n    for i in range(0, 2):\n        for j in range(0, 3):\n            guess_df = dataset[(dataset['Sex'] == i) & \\\n                                  (dataset['Pclass'] == j+1)]['Age'].dropna()\n\n            age_guess = guess_df.median()\n\n            # Convert random age float to nearest .5 age\n            guess_ages[i,j] = int( age_guess/0.5 + 0.5 ) * 0.5\n    print('-'*20)\n    print(guess_df)\n    print('-'*20)\n    print(guess_ages)\n    for i in range(0, 2):\n        for j in range(0, 3):\n            dataset.loc[ (dataset.Age.isnull()) & (dataset.Sex == i) & (dataset.Pclass == j+1),\\\n                    'Age'] = guess_ages[i,j]\n\n    dataset['Age'] = dataset['Age'].astype(int)\n",
      "execution_count": null,
      "outputs": []
    },
    {
      "metadata": {
        "trusted": true,
        "_uuid": "bae9a46ef139e9a55d2e3a21c7368477f8bd371e"
      },
      "cell_type": "code",
      "source": "df_train.info()",
      "execution_count": null,
      "outputs": []
    },
    {
      "metadata": {
        "trusted": true,
        "_uuid": "d805b395ad3ca8053f4a64a9621fec3ca89137b8"
      },
      "cell_type": "code",
      "source": "df_train.head()",
      "execution_count": null,
      "outputs": []
    },
    {
      "metadata": {
        "_uuid": "6c64b0357f2cb824d6f258687fef19076d931e35"
      },
      "cell_type": "markdown",
      "source": "**Complete Missing values.**\n\nLets complete the missing Embark values with median."
    },
    {
      "metadata": {
        "trusted": true,
        "_uuid": "14d794d1c55c94eb0ee186924405886a1f1c2e45"
      },
      "cell_type": "code",
      "source": "# Find out the rows with missing Embark values.\ndf_train[df_train['Embarked'].isnull()]",
      "execution_count": null,
      "outputs": []
    },
    {
      "metadata": {
        "_uuid": "c3d1099e8667923c8805596e3f3bf31bbce32b8f"
      },
      "cell_type": "markdown",
      "source": "The Pclass is 1 and fare is 80 for the above missing Embarked row.\nSo lets guess what will be the Embarked value for such entry."
    },
    {
      "metadata": {
        "trusted": true,
        "_uuid": "18b35805b4c28f08bb35a1e423a68a7eea92237e"
      },
      "cell_type": "code",
      "source": "sns.boxplot(x='Embarked', y='Fare', hue='Pclass', data=df_train)",
      "execution_count": null,
      "outputs": []
    },
    {
      "metadata": {
        "trusted": true,
        "collapsed": true,
        "_uuid": "cb9b6b9ff1c40d0c732a88db3cf1957a15a1d5a6"
      },
      "cell_type": "code",
      "source": "df_train['Embarked'] = df_train['Embarked'].fillna('C')",
      "execution_count": null,
      "outputs": []
    },
    {
      "metadata": {
        "trusted": true,
        "_uuid": "d9d4d084253f21ec2cc59b655180e1cf526fc5f5"
      },
      "cell_type": "code",
      "source": "df_train.info()",
      "execution_count": null,
      "outputs": []
    },
    {
      "metadata": {
        "trusted": true,
        "_uuid": "f770d691574077b26ff05b56b6918bce28e780db"
      },
      "cell_type": "code",
      "source": "df_test.info()",
      "execution_count": null,
      "outputs": []
    },
    {
      "metadata": {
        "_uuid": "f042aa1cd0ace767ea1ee2319b8783c65fbc993b"
      },
      "cell_type": "markdown",
      "source": "**Fill missing values in Test dataset for Fare column**\n\nFill it with the median"
    },
    {
      "metadata": {
        "trusted": true,
        "collapsed": true,
        "_uuid": "2750d06c2722109655b385ebbc078415c5daf2fd"
      },
      "cell_type": "code",
      "source": "df_test['Fare'].fillna(df_test['Fare'].median(), inplace=True)",
      "execution_count": null,
      "outputs": []
    },
    {
      "metadata": {
        "trusted": true,
        "_uuid": "03742700586cce9c6ebf17f86e2e791d33f68b75"
      },
      "cell_type": "code",
      "source": "df_test.info()",
      "execution_count": null,
      "outputs": []
    },
    {
      "metadata": {
        "_uuid": "85ed515245b94e571b3d65c451f936b9f4426c22"
      },
      "cell_type": "markdown",
      "source": "**Now both train and test data does not contain missing values.**"
    },
    {
      "metadata": {
        "_uuid": "f266888712c4c25a50cbb3e2b0bbbd76ca021dae"
      },
      "cell_type": "markdown",
      "source": "**Convert categorical feature to numeric**"
    },
    {
      "metadata": {
        "trusted": true,
        "_uuid": "e9e271b7e9c55f5a6a46a251744dd3fff2314679"
      },
      "cell_type": "code",
      "source": "for dataset in combine:\n    dataset['Embarked'] = dataset['Embarked'].map( {'S': 0, 'C': 1, 'Q': 2} ).astype(int)\n\ndf_train.head()",
      "execution_count": null,
      "outputs": []
    },
    {
      "metadata": {
        "_uuid": "e6fa29fdde018a5cf3f4f251eff86524f7ff545d"
      },
      "cell_type": "markdown",
      "source": "**Analyse feature correlation by pivoting features with target features.**"
    },
    {
      "metadata": {
        "trusted": true,
        "_uuid": "d04ced4f0f1836de91395412c515cfb27883e6fb"
      },
      "cell_type": "code",
      "source": "df_train[['Pclass', 'Survived']].groupby(['Pclass'], as_index=False).mean().sort_values(by='Survived', ascending=False)",
      "execution_count": null,
      "outputs": []
    },
    {
      "metadata": {
        "trusted": true,
        "_uuid": "12eef8c97fa07d08b3f4edbdbfcc22777193ccd1"
      },
      "cell_type": "code",
      "source": "df_train[['Sex', 'Survived']].groupby(['Sex'], as_index=False).mean().sort_values(by='Survived', ascending=False)",
      "execution_count": null,
      "outputs": []
    },
    {
      "metadata": {
        "_uuid": "694a325dde896452b2288c8cf2f9a4650b0e3656"
      },
      "cell_type": "markdown",
      "source": "**Analyse by visualization**"
    },
    {
      "metadata": {
        "trusted": true,
        "_uuid": "8ec471a441f868f49eca23063e1957bf8bc28ba0"
      },
      "cell_type": "code",
      "source": "g = sns.FacetGrid(df_train, col='Survived')\ng.map(plt.hist, 'Age', bins=20)",
      "execution_count": null,
      "outputs": []
    },
    {
      "metadata": {
        "_uuid": "22107c17dcf60c28c5bff99e406c62729f9aeb2c"
      },
      "cell_type": "markdown",
      "source": "**Model and Predict**"
    },
    {
      "metadata": {
        "trusted": true,
        "_uuid": "850cf13a972c5905508c5a24b336db34923d474b"
      },
      "cell_type": "code",
      "source": "X_train = df_train.drop(\"Survived\", axis=1)\nY_train = df_train[\"Survived\"]\nX_test  = df_test.drop(\"PassengerId\", axis=1).copy()\nX_train.shape, Y_train.shape, X_test.shape\n",
      "execution_count": null,
      "outputs": []
    },
    {
      "metadata": {
        "_uuid": "7b30fbed38d6b0a3002cc850e43d2c3b943654c5"
      },
      "cell_type": "markdown",
      "source": "**Logistic Regression**"
    },
    {
      "metadata": {
        "trusted": true,
        "_uuid": "c62fac6da47d3beade199683a2b7735cf96ffbd5"
      },
      "cell_type": "code",
      "source": "logreg = LogisticRegression()\nlogreg.fit(X_train, Y_train)\nY_pred = logreg.predict(X_test)\nacc_log = round(logreg.score(X_train, Y_train) * 100, 2)\nacc_log",
      "execution_count": null,
      "outputs": []
    },
    {
      "metadata": {
        "_uuid": "d5122013c46ee4a39c61fd4fec758d93590d1632"
      },
      "cell_type": "markdown",
      "source": "**Support Vector Machines**"
    },
    {
      "metadata": {
        "trusted": true,
        "_uuid": "1a75ee76d8fcb5feedb09fc8734381a5edf8a8b9"
      },
      "cell_type": "code",
      "source": "svc = SVC()\nsvc.fit(X_train, Y_train)\nY_pred = svc.predict(X_test)\nacc_svc = round(svc.score(X_train, Y_train) * 100, 2)\nacc_svc",
      "execution_count": null,
      "outputs": []
    },
    {
      "metadata": {
        "_uuid": "443e7a8416b6e3a48cc1d0bfe9b20e709824069b"
      },
      "cell_type": "markdown",
      "source": "**k-Nearest Neighbors **"
    },
    {
      "metadata": {
        "trusted": true,
        "_uuid": "7268bacd2c52d178242fc49bb7d33187e88176bf"
      },
      "cell_type": "code",
      "source": "knn = KNeighborsClassifier(n_neighbors = 3)\nknn.fit(X_train, Y_train)\nY_pred = knn.predict(X_test)\nacc_knn = round(knn.score(X_train, Y_train) * 100, 2)\nacc_knn",
      "execution_count": null,
      "outputs": []
    },
    {
      "metadata": {
        "_uuid": "068e7c23e32cd4dc3b195fd9175b858a942b0ee2"
      },
      "cell_type": "markdown",
      "source": "**Gaussian Naive Bayes**"
    },
    {
      "metadata": {
        "trusted": true,
        "_uuid": "24733a844c5cecfa656c53ab37d8812fbcc14ae4"
      },
      "cell_type": "code",
      "source": "gaussian = GaussianNB()\ngaussian.fit(X_train, Y_train)\nY_pred = gaussian.predict(X_test)\nacc_gaussian = round(gaussian.score(X_train, Y_train) * 100, 2)\nacc_gaussian",
      "execution_count": null,
      "outputs": []
    },
    {
      "metadata": {
        "_uuid": "81128c4610fd8eb2d14f7f2d03357325e22b9f89"
      },
      "cell_type": "markdown",
      "source": "**Perceptron**"
    },
    {
      "metadata": {
        "trusted": true,
        "_uuid": "8d07e6abbca203ce516e25caf53ee63a1f1f034f"
      },
      "cell_type": "code",
      "source": "perceptron = Perceptron()\nperceptron.fit(X_train, Y_train)\nY_pred = perceptron.predict(X_test)\nacc_perceptron = round(perceptron.score(X_train, Y_train) * 100, 2)\nacc_perceptron",
      "execution_count": null,
      "outputs": []
    },
    {
      "metadata": {
        "_uuid": "e4ab0e6a92184a9a9501ce5c8ec41fbbc727b77d"
      },
      "cell_type": "markdown",
      "source": "**Linear SVC**"
    },
    {
      "metadata": {
        "trusted": true,
        "_uuid": "fb88d08cde799e0a37deb9a47b1352d21e9d3d75"
      },
      "cell_type": "code",
      "source": "linear_svc = LinearSVC()\nlinear_svc.fit(X_train, Y_train)\nY_pred = linear_svc.predict(X_test)\nacc_linear_svc = round(linear_svc.score(X_train, Y_train) * 100, 2)\nacc_linear_svc",
      "execution_count": null,
      "outputs": []
    },
    {
      "metadata": {
        "_uuid": "430dcd184d6b3c5a2d2f9212633c517c3d123548"
      },
      "cell_type": "markdown",
      "source": "**Stochastic Gradient Descent**"
    },
    {
      "metadata": {
        "trusted": true,
        "_uuid": "8754d6cea8ef44f0e82b703892db18f7605e0f85"
      },
      "cell_type": "code",
      "source": "sgd = SGDClassifier()\nsgd.fit(X_train, Y_train)\nY_pred = sgd.predict(X_test)\nacc_sgd = round(sgd.score(X_train, Y_train) * 100, 2)\nacc_sgd",
      "execution_count": null,
      "outputs": []
    },
    {
      "metadata": {
        "_uuid": "78bc2159628bca604b8cb80d131075df9e395603"
      },
      "cell_type": "markdown",
      "source": "**Decision Tree**"
    },
    {
      "metadata": {
        "trusted": true,
        "_uuid": "1c97fad2efb1cfca78554ab7671905f46541d4c9"
      },
      "cell_type": "code",
      "source": "decision_tree = DecisionTreeClassifier()\ndecision_tree.fit(X_train, Y_train)\nY_pred = decision_tree.predict(X_test)\nacc_decision_tree = round(decision_tree.score(X_train, Y_train) * 100, 2)\nacc_decision_tree",
      "execution_count": null,
      "outputs": []
    },
    {
      "metadata": {
        "_uuid": "fbac877d0d5da913a078d617f94a07be2608e9a4"
      },
      "cell_type": "markdown",
      "source": "**Random Forest**"
    },
    {
      "metadata": {
        "trusted": true,
        "_uuid": "e0710b17c31f401952f2dd916435a220ae415865"
      },
      "cell_type": "code",
      "source": "random_forest = RandomForestClassifier(n_estimators=100)\nrandom_forest.fit(X_train, Y_train)\nY_pred = random_forest.predict(X_test)\nrandom_forest.score(X_train, Y_train)\nacc_random_forest = round(random_forest.score(X_train, Y_train) * 100, 2)\nacc_random_forest",
      "execution_count": null,
      "outputs": []
    },
    {
      "metadata": {
        "_uuid": "f547dd7773b881f87449efec8228fbbdcd0c4814"
      },
      "cell_type": "markdown",
      "source": "**Model Evaluation**"
    },
    {
      "metadata": {
        "trusted": true,
        "_uuid": "5a176657906ec7c98158299a3a2aec77c2b650e5"
      },
      "cell_type": "code",
      "source": "models = pd.DataFrame({\n    'Model': ['Support Vector Machines', 'KNN', 'Logistic Regression', \n              'Random Forest', 'Naive Bayes', 'Perceptron', \n              'Stochastic Gradient Decent', 'Linear SVC', \n              'Decision Tree'],\n    'Score': [acc_svc, acc_knn, acc_log, \n              acc_random_forest, acc_gaussian, acc_perceptron, \n              acc_sgd, acc_linear_svc, acc_decision_tree]})\nmodels.sort_values(by='Score', ascending=False)",
      "execution_count": null,
      "outputs": []
    },
    {
      "metadata": {
        "trusted": true,
        "collapsed": true,
        "_uuid": "c0c1dd8d3060ad92b333f73e81679d3d5363bff9"
      },
      "cell_type": "code",
      "source": "submission = pd.DataFrame({\n        \"PassengerId\": df_test[\"PassengerId\"],\n        \"Survived\": Y_pred\n    })",
      "execution_count": null,
      "outputs": []
    },
    {
      "metadata": {
        "trusted": true,
        "_uuid": "e35fde3348f5041b857130d908afb40375664ab6"
      },
      "cell_type": "code",
      "source": "submission.to_csv('first_submission.csv', index=False)",
      "execution_count": null,
      "outputs": []
    },
    {
      "metadata": {
        "trusted": true,
        "_uuid": "3fd38cf448f94c7e270a6faa1e832a0ad4497741"
      },
      "cell_type": "code",
      "source": "print(os.listdir(\"../input\"))\n",
      "execution_count": null,
      "outputs": []
    },
    {
      "metadata": {
        "trusted": true,
        "collapsed": true,
        "_uuid": "f04f43604ecbb695b044dff9d592d647c02557f0"
      },
      "cell_type": "code",
      "source": "",
      "execution_count": null,
      "outputs": []
    }
  ],
  "metadata": {
    "kernelspec": {
      "display_name": "Python 3",
      "language": "python",
      "name": "python3"
    },
    "language_info": {
      "name": "python",
      "version": "3.6.6",
      "mimetype": "text/x-python",
      "codemirror_mode": {
        "name": "ipython",
        "version": 3
      },
      "pygments_lexer": "ipython3",
      "nbconvert_exporter": "python",
      "file_extension": ".py"
    }
  },
  "nbformat": 4,
  "nbformat_minor": 1
}